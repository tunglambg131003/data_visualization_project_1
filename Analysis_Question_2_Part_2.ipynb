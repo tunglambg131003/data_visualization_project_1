{
  "nbformat": 4,
  "nbformat_minor": 0,
  "metadata": {
    "colab": {
      "provenance": []
    },
    "kernelspec": {
      "name": "python3",
      "display_name": "Python 3"
    },
    "language_info": {
      "name": "python"
    }
  },
  "cells": [
    {
      "cell_type": "code",
      "source": [
        "!pip install dash"
      ],
      "metadata": {
        "colab": {
          "base_uri": "https://localhost:8080/"
        },
        "id": "dpA3HVvboF67",
        "outputId": "90d4736d-1f3b-4da8-8512-e4b01a3ce345"
      },
      "execution_count": null,
      "outputs": [
        {
          "output_type": "stream",
          "name": "stdout",
          "text": [
            "Collecting dash\n",
            "  Downloading dash-3.0.2-py3-none-any.whl.metadata (10 kB)\n",
            "Collecting Flask<3.1,>=1.0.4 (from dash)\n",
            "  Downloading flask-3.0.3-py3-none-any.whl.metadata (3.2 kB)\n",
            "Collecting Werkzeug<3.1 (from dash)\n",
            "  Downloading werkzeug-3.0.6-py3-none-any.whl.metadata (3.7 kB)\n",
            "Requirement already satisfied: plotly>=5.0.0 in /usr/local/lib/python3.11/dist-packages (from dash) (5.24.1)\n",
            "Requirement already satisfied: importlib-metadata in /usr/local/lib/python3.11/dist-packages (from dash) (8.6.1)\n",
            "Requirement already satisfied: typing-extensions>=4.1.1 in /usr/local/lib/python3.11/dist-packages (from dash) (4.13.1)\n",
            "Requirement already satisfied: requests in /usr/local/lib/python3.11/dist-packages (from dash) (2.32.3)\n",
            "Collecting retrying (from dash)\n",
            "  Downloading retrying-1.3.4-py3-none-any.whl.metadata (6.9 kB)\n",
            "Requirement already satisfied: nest-asyncio in /usr/local/lib/python3.11/dist-packages (from dash) (1.6.0)\n",
            "Requirement already satisfied: setuptools in /usr/local/lib/python3.11/dist-packages (from dash) (75.2.0)\n",
            "Requirement already satisfied: Jinja2>=3.1.2 in /usr/local/lib/python3.11/dist-packages (from Flask<3.1,>=1.0.4->dash) (3.1.6)\n",
            "Requirement already satisfied: itsdangerous>=2.1.2 in /usr/local/lib/python3.11/dist-packages (from Flask<3.1,>=1.0.4->dash) (2.2.0)\n",
            "Requirement already satisfied: click>=8.1.3 in /usr/local/lib/python3.11/dist-packages (from Flask<3.1,>=1.0.4->dash) (8.1.8)\n",
            "Requirement already satisfied: blinker>=1.6.2 in /usr/local/lib/python3.11/dist-packages (from Flask<3.1,>=1.0.4->dash) (1.9.0)\n",
            "Requirement already satisfied: tenacity>=6.2.0 in /usr/local/lib/python3.11/dist-packages (from plotly>=5.0.0->dash) (9.1.2)\n",
            "Requirement already satisfied: packaging in /usr/local/lib/python3.11/dist-packages (from plotly>=5.0.0->dash) (24.2)\n",
            "Requirement already satisfied: MarkupSafe>=2.1.1 in /usr/local/lib/python3.11/dist-packages (from Werkzeug<3.1->dash) (3.0.2)\n",
            "Requirement already satisfied: zipp>=3.20 in /usr/local/lib/python3.11/dist-packages (from importlib-metadata->dash) (3.21.0)\n",
            "Requirement already satisfied: charset-normalizer<4,>=2 in /usr/local/lib/python3.11/dist-packages (from requests->dash) (3.4.1)\n",
            "Requirement already satisfied: idna<4,>=2.5 in /usr/local/lib/python3.11/dist-packages (from requests->dash) (3.10)\n",
            "Requirement already satisfied: urllib3<3,>=1.21.1 in /usr/local/lib/python3.11/dist-packages (from requests->dash) (2.3.0)\n",
            "Requirement already satisfied: certifi>=2017.4.17 in /usr/local/lib/python3.11/dist-packages (from requests->dash) (2025.1.31)\n",
            "Requirement already satisfied: six>=1.7.0 in /usr/local/lib/python3.11/dist-packages (from retrying->dash) (1.17.0)\n",
            "Downloading dash-3.0.2-py3-none-any.whl (7.9 MB)\n",
            "\u001b[2K   \u001b[90m━━━━━━━━━━━━━━━━━━━━━━━━━━━━━━━━━━━━━━━━\u001b[0m \u001b[32m7.9/7.9 MB\u001b[0m \u001b[31m56.9 MB/s\u001b[0m eta \u001b[36m0:00:00\u001b[0m\n",
            "\u001b[?25hDownloading flask-3.0.3-py3-none-any.whl (101 kB)\n",
            "\u001b[2K   \u001b[90m━━━━━━━━━━━━━━━━━━━━━━━━━━━━━━━━━━━━━━━━\u001b[0m \u001b[32m101.7/101.7 kB\u001b[0m \u001b[31m6.1 MB/s\u001b[0m eta \u001b[36m0:00:00\u001b[0m\n",
            "\u001b[?25hDownloading werkzeug-3.0.6-py3-none-any.whl (227 kB)\n",
            "\u001b[2K   \u001b[90m━━━━━━━━━━━━━━━━━━━━━━━━━━━━━━━━━━━━━━━━\u001b[0m \u001b[32m228.0/228.0 kB\u001b[0m \u001b[31m13.3 MB/s\u001b[0m eta \u001b[36m0:00:00\u001b[0m\n",
            "\u001b[?25hDownloading retrying-1.3.4-py3-none-any.whl (11 kB)\n",
            "Installing collected packages: Werkzeug, retrying, Flask, dash\n",
            "  Attempting uninstall: Werkzeug\n",
            "    Found existing installation: Werkzeug 3.1.3\n",
            "    Uninstalling Werkzeug-3.1.3:\n",
            "      Successfully uninstalled Werkzeug-3.1.3\n",
            "  Attempting uninstall: Flask\n",
            "    Found existing installation: Flask 3.1.0\n",
            "    Uninstalling Flask-3.1.0:\n",
            "      Successfully uninstalled Flask-3.1.0\n",
            "Successfully installed Flask-3.0.3 Werkzeug-3.0.6 dash-3.0.2 retrying-1.3.4\n"
          ]
        }
      ]
    },
    {
      "cell_type": "code",
      "source": [
        "import dash\n",
        "from dash import dcc, html, Input, Output\n",
        "import pandas as pd\n",
        "import numpy as np\n",
        "from sklearn.cluster import KMeans\n",
        "from sklearn.preprocessing import StandardScaler\n",
        "from sklearn.manifold import TSNE\n",
        "import plotly.express as px\n",
        "import plotly.graph_objects as go"
      ],
      "metadata": {
        "id": "FRQ5zKMUYJD5"
      },
      "execution_count": null,
      "outputs": []
    },
    {
      "cell_type": "code",
      "execution_count": null,
      "metadata": {
        "id": "A9j5bijea8HS"
      },
      "outputs": [],
      "source": [
        "# Load and preprocess data\n",
        "df = pd.read_csv('hottest_50_1960_2022_encoding.csv')\n",
        "df = df.dropna(subset=['danceability', 'energy', 'loudness', 'speechiness', 'valence', 'tempo'])  # Exclude missing rows\n",
        "df['year'] = df['date'].str[:4].astype(int)\n",
        "df['decade'] = (df['year'] // 10) * 10  # Group into decades\n",
        "\n",
        "# Features for clustering\n",
        "features = ['danceability', 'energy', 'loudness', 'speechiness', 'valence', 'tempo']\n",
        "scaler = StandardScaler()\n",
        "df_scaled = scaler.fit_transform(df[features])\n",
        "\n",
        "# Determine optimal clusters (Elbow Method)\n",
        "wcss = []\n",
        "for i in range(1, 11):\n",
        "    kmeans = KMeans(n_clusters=i, random_state=42)\n",
        "    kmeans.fit(df_scaled)\n",
        "    wcss.append(kmeans.inertia_)\n",
        "optimal_clusters = 4  # Adjust based on elbow curve"
      ]
    },
    {
      "cell_type": "code",
      "source": [
        "# Initialize Dash app\n",
        "app = dash.Dash(__name__)\n",
        "app.layout = html.Div([\n",
        "    html.H1(\"Dynamic Genre Evolution (1960-2020)\", style={'textAlign': 'center'}),\n",
        "\n",
        "    html.Div([\n",
        "        dcc.Dropdown(\n",
        "            id='decade-selector',\n",
        "            options=[{'label': f'{decade}s', 'value': decade} for decade in sorted(df['decade'].unique())],\n",
        "            value=df['decade'].min(),\n",
        "            placeholder=\"Select Decade\",\n",
        "            style={'width': '100%'}\n",
        "        )\n",
        "    ], style={'width': '50%', 'margin': '20px auto'}),\n",
        "\n",
        "    dcc.Graph(id='cluster-plot'),\n",
        "    dcc.Graph(id='heatmap'),\n",
        "\n",
        "    html.H3(\"Select Feature for Evolution Comparison:\", style={'textAlign': 'center'}),\n",
        "\n",
        "    html.Div([\n",
        "        dcc.Dropdown(\n",
        "            id='feature-selector',\n",
        "            options=[{'label': feat.title(), 'value': feat} for feat in features],\n",
        "            value='danceability',\n",
        "            placeholder=\"Select Feature\",\n",
        "            style={'width': '100%'}\n",
        "        )\n",
        "    ], style={'width': '50%', 'margin': '20px auto'}),\n",
        "\n",
        "    dcc.Graph(id='feature-evolution')\n",
        "])\n"
      ],
      "metadata": {
        "id": "s2JH0uqi8AGs"
      },
      "execution_count": null,
      "outputs": []
    },
    {
      "cell_type": "code",
      "source": [
        "# Callbacks for interactivity\n",
        "@app.callback(\n",
        "    [Output('cluster-plot', 'figure'),\n",
        "     Output('heatmap', 'figure'),\n",
        "     Output('feature-evolution', 'figure')],\n",
        "    [Input('decade-selector', 'value'),\n",
        "     Input('feature-selector', 'value')]\n",
        ")\n",
        "def update_plots(selected_decade, selected_feature):\n",
        "    # Filter data by decade\n",
        "    df_decade = df[df['decade'] == selected_decade].copy()\n",
        "    scaled_data = scaler.transform(df_decade[features])\n",
        "\n",
        "    # K-Means Clustering\n",
        "    kmeans = KMeans(n_clusters=optimal_clusters, random_state=42)\n",
        "    df_decade['cluster'] = kmeans.fit_predict(scaled_data)\n",
        "\n",
        "    # t-SNE Projection\n",
        "    tsne = TSNE(n_components=2, random_state=42, perplexity=30, n_iter=500)\n",
        "    tsne_results = tsne.fit_transform(scaled_data)\n",
        "    df_decade['tsne_x'] = tsne_results[:, 0]\n",
        "    df_decade['tsne_y'] = tsne_results[:, 1]\n",
        "\n",
        "    # Cluster vs Genre Heatmap\n",
        "    heatmap_data = pd.crosstab(df_decade['cluster'], df_decade['genre_encoding'])\n",
        "    heatmap_fig = px.imshow(heatmap_data, labels=dict(x=\"Genre\", y=\"Cluster\", color=\"Count\"),\n",
        "                            title=f\"Cluster vs Genre (Decade: {selected_decade}s)\")\n",
        "\n",
        "    # Feature Evolution (2000s vs 2020s)\n",
        "    df_2000s = df[df['decade'] == 2000]\n",
        "    df_2020s = df[df['decade'] == 2020]\n",
        "    feature_evolution_fig = go.Figure()\n",
        "\n",
        "    feature_evolution_fig.add_trace(go.Box(\n",
        "        x=df_2000s['genre_encoding'],\n",
        "        y=df_2000s[selected_feature],\n",
        "        name=f'2000s {selected_feature.title()}'\n",
        "    ))\n",
        "\n",
        "    feature_evolution_fig.add_trace(go.Box(\n",
        "        x=df_2020s['genre_encoding'],\n",
        "        y=df_2020s[selected_feature],\n",
        "        name=f'2020s {selected_feature.title()}'\n",
        "    ))\n",
        "\n",
        "    feature_evolution_fig.update_layout(\n",
        "        title=f\"Feature Evolution: {selected_feature.title()} (2000s vs 2020s)\",\n",
        "        xaxis_title=\"Genre Encoding\",\n",
        "        yaxis_title=selected_feature.title()\n",
        "    )\n",
        "\n",
        "    # Cluster Plot\n",
        "    cluster_fig = px.scatter(\n",
        "        df_decade, x='tsne_x', y='tsne_y', color='cluster',\n",
        "        hover_data=['title', 'artist', 'genre_encoding'],\n",
        "        title=f\"Clusters in the {selected_decade}s (t-SNE Projection)\"\n",
        "    )\n",
        "\n",
        "    return cluster_fig, heatmap_fig, feature_evolution_fig\n"
      ],
      "metadata": {
        "id": "52b_zvRN8Brj"
      },
      "execution_count": null,
      "outputs": []
    },
    {
      "cell_type": "code",
      "source": [
        "# Run the app in Colab\n",
        "app.run(mode='inline', port=8050)"
      ],
      "metadata": {
        "id": "4nFEBLL18Dlv",
        "colab": {
          "base_uri": "https://localhost:8080/",
          "height": 672
        },
        "outputId": "8be86884-b7a3-4313-e268-0452e8adf924"
      },
      "execution_count": null,
      "outputs": [
        {
          "output_type": "display_data",
          "data": {
            "text/plain": [
              "<IPython.core.display.Javascript object>"
            ],
            "application/javascript": [
              "(async (port, path, width, height, cache, element) => {\n",
              "    if (!google.colab.kernel.accessAllowed && !cache) {\n",
              "      return;\n",
              "    }\n",
              "    element.appendChild(document.createTextNode(''));\n",
              "    const url = await google.colab.kernel.proxyPort(port, {cache});\n",
              "    const iframe = document.createElement('iframe');\n",
              "    iframe.src = new URL(path, url).toString();\n",
              "    iframe.height = height;\n",
              "    iframe.width = width;\n",
              "    iframe.style.border = 0;\n",
              "    iframe.allow = [\n",
              "        'accelerometer',\n",
              "        'autoplay',\n",
              "        'camera',\n",
              "        'clipboard-read',\n",
              "        'clipboard-write',\n",
              "        'gyroscope',\n",
              "        'magnetometer',\n",
              "        'microphone',\n",
              "        'serial',\n",
              "        'usb',\n",
              "        'xr-spatial-tracking',\n",
              "    ].join('; ');\n",
              "    element.appendChild(iframe);\n",
              "  })(8050, \"/\", \"100%\", 650, false, window.element)"
            ]
          },
          "metadata": {}
        }
      ]
    }
  ]
}